{
    "nbformat": 4,
    "nbformat_minor": 0,
    "metadata": {
        "colab": {
            "provenance": [],
            "authorship_tag": "ABX9TyPzyZvPN2zopqAFHuR8cajr"
        },
        "kernelspec": {
            "name": "python3",
            "display_name": "Python 3"
        },
        "language_info": {
            "name": "python"
        }
    },
    "cells": [
        {
            "cell_type": "code",
            "execution_count": null,
            "metadata": {
                "id": "mPK5sQpmunbL"
            },
            "outputs": [],
            "source": [
                "!python -m pip install --upgrade setuptools\n",
                "!pip install git+https://github.com/tky823/ssspy.git"
            ]
        },
        {
            "cell_type": "code",
            "source": [
                "import numpy as np\n",
                "import scipy.signal as ss\n",
                "import matplotlib.pyplot as plt\n",
                "import IPython.display as ipd\n",
                "from tqdm.notebook import tqdm"
            ],
            "metadata": {
                "id": "gF-CVqpZuq7y"
            },
            "execution_count": null,
            "outputs": []
        },
        {
            "cell_type": "code",
            "source": [
                "from ssspy.utils.dataset import download_sample_speech_data"
            ],
            "metadata": {
                "id": "LJto4YUHusBK"
            },
            "execution_count": null,
            "outputs": []
        },
        {
            "cell_type": "code",
            "source": [
                "n_sources = 2\n",
                "max_duration = 10\n",
                "sisec2010_tag = \"dev1_female3\"\n",
                "n_fft, hop_length = 4096, 2048"
            ],
            "metadata": {
                "id": "RypuaK8GutWj"
            },
            "execution_count": null,
            "outputs": []
        },
        {
            "cell_type": "code",
            "source": [
                "waveform_src_img, sample_rate = download_sample_speech_data(\n",
                "    n_sources=n_sources,\n",
                "    sisec2010_tag=sisec2010_tag,\n",
                "    max_duration=max_duration,\n",
                "    conv=True,\n",
                ")  # (n_channels, n_sources, n_samples)\n",
                "waveform_mix = np.sum(waveform_src_img, axis=1)  # (n_channels, n_samples)"
            ],
            "metadata": {
                "id": "F8UVIE67uwNv"
            },
            "execution_count": null,
            "outputs": []
        },
        {
            "cell_type": "code",
            "source": [
                "for idx, waveform in enumerate(waveform_mix):\n",
                "    print(\"Mixture: {}\".format(idx + 1))\n",
                "    display(ipd.Audio(waveform, rate=sample_rate))\n",
                "    print()"
            ],
            "metadata": {
                "id": "M6rHkLzcuzZL"
            },
            "execution_count": null,
            "outputs": []
        },
        {
            "cell_type": "code",
            "source": [
                "from ssspy.bss.cacgmm import CACGMM as CACGMMBase"
            ],
            "metadata": {
                "id": "mBxB5tm2u0X7"
            },
            "execution_count": null,
            "outputs": []
        },
        {
            "cell_type": "code",
            "source": [
                "class CACGMM(CACGMMBase):\n",
                "    def __init__(self, *args, **kwargs):\n",
                "        super().__init__(*args, **kwargs)\n",
                "\n",
                "        self.progress_bar = None\n",
                "\n",
                "    def __call__(\n",
                "        self, input: np.ndarray, n_iter: int = 100, initial_call: bool = True, **kwargs\n",
                "    ) -> np.ndarray:\n",
                "        self.n_iter = n_iter\n",
                "\n",
                "        return super().__call__(input, n_iter=n_iter, initial_call=initial_call, **kwargs)\n",
                "\n",
                "    def update_once(self) -> None:\n",
                "        if self.progress_bar is None:\n",
                "            self.progress_bar = tqdm(total=self.n_iter)\n",
                "\n",
                "        super().update_once()\n",
                "\n",
                "        self.progress_bar.update(1)"
            ],
            "metadata": {
                "id": "12peq3Xyu2WM"
            },
            "execution_count": null,
            "outputs": []
        },
        {
            "cell_type": "code",
            "source": [
                "cacgmm = CACGMM(\n",
                "    permutation_alignment=\"posterior_score\",\n",
                "    global_iter=100,\n",
                "    local_iter=100,\n",
                "    rng=np.random.default_rng(42)\n",
                ")\n",
                "print(cacgmm)"
            ],
            "metadata": {
                "id": "P7QNo371u3YP"
            },
            "execution_count": null,
            "outputs": []
        },
        {
            "cell_type": "code",
            "source": [
                "_, _, spectrogram_mix = ss.stft(waveform_mix, window=\"hann\", nperseg=n_fft, noverlap=n_fft-hop_length)"
            ],
            "metadata": {
                "id": "g-vqiYCUu6id"
            },
            "execution_count": null,
            "outputs": []
        },
        {
            "cell_type": "code",
            "source": [
                "spectrogram_est = cacgmm(spectrogram_mix, n_iter=200)"
            ],
            "metadata": {
                "id": "QQ3MmBwpu6f3"
            },
            "execution_count": null,
            "outputs": []
        },
        {
            "cell_type": "code",
            "source": [
                "_, waveform_est = ss.istft(spectrogram_est, window=\"hann\", nperseg=n_fft, noverlap=n_fft-hop_length)"
            ],
            "metadata": {
                "id": "tMz1cFCKu9Nk"
            },
            "execution_count": null,
            "outputs": []
        },
        {
            "cell_type": "code",
            "source": [
                "for idx, waveform in enumerate(waveform_est):\n",
                "    print(\"Estimated source: {}\".format(idx + 1))\n",
                "    display(ipd.Audio(waveform, rate=sample_rate))\n",
                "    print()"
            ],
            "metadata": {
                "id": "La9fImOkvAE5"
            },
            "execution_count": null,
            "outputs": []
        },
        {
            "cell_type": "code",
            "source": [
                "plt.figure()\n",
                "plt.plot(cacgmm.loss[1:])\n",
                "plt.show()\n",
                "plt.close()"
            ],
            "metadata": {
                "id": "ySSBSypivAAN"
            },
            "execution_count": null,
            "outputs": []
        },
        {
            "cell_type": "code",
            "source": [],
            "metadata": {
                "id": "AyyuPUvlyTxN"
            },
            "execution_count": null,
            "outputs": []
        }
    ]
}
